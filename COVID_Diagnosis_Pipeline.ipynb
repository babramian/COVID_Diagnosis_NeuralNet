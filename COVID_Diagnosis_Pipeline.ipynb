{
  "nbformat": 4,
  "nbformat_minor": 0,
  "metadata": {
    "colab": {
      "name": "COVID_Diagnosis_Pipeline.ipynb",
      "provenance": []
    },
    "kernelspec": {
      "name": "python3",
      "display_name": "Python 3"
    },
    "language_info": {
      "name": "python"
    }
  },
  "cells": [
    {
      "cell_type": "code",
      "metadata": {
        "id": "aK1Q7UIHSJnk"
      },
      "source": [
        "import pandas as pd\n",
        "import torch\n",
        "import torch.nn as nn\n",
        "import scipy\n",
        "import sklearn\n",
        "from sklearn.preprocessing import StandardScaler, MinMaxScaler\n",
        "from keras.models import load_model\n",
        "from scipy import stats\n",
        "import warnings\n",
        "import requests\n",
        "from io import StringIO"
      ],
      "execution_count": null,
      "outputs": []
    },
    {
      "cell_type": "code",
      "metadata": {
        "colab": {
          "base_uri": "https://localhost:8080/"
        },
        "id": "f89lDdfWX4Hz",
        "outputId": "01ffd3b0-3f48-4bb0-aded-760c8e502bba"
      },
      "source": [
        "from google.colab import drive\n",
        "\n",
        "drive.mount('/content/drive')"
      ],
      "execution_count": null,
      "outputs": [
        {
          "output_type": "stream",
          "text": [
            "Drive already mounted at /content/drive; to attempt to forcibly remount, call drive.mount(\"/content/drive\", force_remount=True).\n"
          ],
          "name": "stdout"
        }
      ]
    },
    {
      "cell_type": "code",
      "metadata": {
        "id": "1S5rcKHPIKFi"
      },
      "source": [
        "INPUT_DIRECTORY=''\n",
        "OUTPUT_DIRECTORY=''\n",
        "MODEL_DIRECTORY=''\n",
        "MODEL_NAME='Dense_Sequential_Model'"
      ],
      "execution_count": null,
      "outputs": []
    },
    {
      "cell_type": "code",
      "metadata": {
        "id": "slmQxhyvZsMA"
      },
      "source": [
        "import glob\n",
        "\n",
        "# get data file names\n",
        "folder_path = INPUT_DIRECTORY\n",
        "filenames = glob.glob(folder_path + \"/*.csv\")\n",
        "dfs = [pd.read_csv(filename) for filename in filenames]\n",
        "\n",
        "# concatenate all data into one DataFrame\n",
        "df = pd.concat(dfs, ignore_index=True)"
      ],
      "execution_count": null,
      "outputs": []
    },
    {
      "cell_type": "code",
      "metadata": {
        "id": "swXcy3WVIpuK"
      },
      "source": [
        "# Drop data that appears in less than half of the samples\n",
        "df = df.drop(labels=['covid19_test_results', 'rapid_flu_results', 'rapid_strep_results', 'rr', 'rhonchi', 'wheezes', 'sys', 'dia', 'sats', 'ctab', 'days_since_symptom_onset', 'cough_severity',\n",
        "                     'sob_severity', 'cxr_findings', 'cxr_impression', 'cxr_label', 'cxr_link', 'er_referral', 'test_name', 'swab_type', 'batch_date'], axis=1)"
      ],
      "execution_count": null,
      "outputs": []
    },
    {
      "cell_type": "code",
      "metadata": {
        "id": "Ta3eRK5zkD9p"
      },
      "source": [
        "columns = ['age',\n",
        "       'high_risk_exposure_occupation', 'high_risk_interactions', 'diabetes',\n",
        "       'chd', 'htn', 'cancer', 'asthma', 'copd', 'autoimmune_dis', 'smoker',\n",
        "       'temperature', 'pulse', 'labored_respiration', 'cough', 'fever', 'sob',\n",
        "       'diarrhea', 'fatigue', 'headache', 'loss_of_smell', 'loss_of_taste',\n",
        "       'runny_nose', 'muscle_sore', 'sore_throat']\n",
        "\n",
        "# categorical_features = ['test_name', 'swab_type']\n",
        "\n",
        "continuous_features = ['temperature', 'pulse']\n",
        "\n",
        "binary_features = ['diabetes', 'chd', 'htn', 'cancer', 'asthma', 'copd', 'autoimmune_dis', 'high_risk_exposure_occupation', 'high_risk_interactions', 'smoker', 'labored_respiration', 'cough',\n",
        "                   'fever', 'sob', 'diarrhea', 'fatigue', 'headache', 'loss_of_smell', 'loss_of_taste', 'runny_nose', 'muscle_sore', 'sore_throat']"
      ],
      "execution_count": null,
      "outputs": []
    },
    {
      "cell_type": "markdown",
      "metadata": {
        "id": "jww6exIXXjUO"
      },
      "source": [
        "# One Hot Encoding\n",
        "Our categorical data is mostly strings, we need to convert these to numerical types.\n",
        "\n",
        " - Binary Data\n",
        "    - We want these to be labelled as 0s and 1s\n",
        " - Multi-categorical\n",
        "    - We'll label these in increments, ie 0, 1, 2, .."
      ]
    },
    {
      "cell_type": "code",
      "metadata": {
        "id": "1JRX-uAnZsLj"
      },
      "source": [
        "for col in binary_features:\n",
        "    df[col] = df[col] * 1\n"
      ],
      "execution_count": null,
      "outputs": []
    },
    {
      "cell_type": "code",
      "metadata": {
        "id": "_es2-zKp3xnf"
      },
      "source": [
        "def one_hot(X):\n",
        "    # dummy_cols = list(set(X[categorical_features + binary_features]))\n",
        "    dummy_cols = list(set(X[binary_features]))\n",
        "    X = pd.get_dummies(X, columns=dummy_cols)\n",
        "    return X\n",
        "\n",
        "df = one_hot(df)"
      ],
      "execution_count": null,
      "outputs": []
    },
    {
      "cell_type": "markdown",
      "metadata": {
        "id": "S3ZglUQm70CT"
      },
      "source": [
        "# Normalize Continuous Features"
      ]
    },
    {
      "cell_type": "code",
      "metadata": {
        "id": "AMoyOacx72_Y"
      },
      "source": [
        "# from sklearn import preprocessing\n",
        "\n",
        "x = df[continuous_features].values #returns a numpy array\n",
        "min_max_scaler = MinMaxScaler()\n",
        "x_scaled = min_max_scaler.fit_transform(x)\n",
        "df[continuous_features] = pd.DataFrame(x_scaled)\n",
        "df['age'] = df['age']/100"
      ],
      "execution_count": null,
      "outputs": []
    },
    {
      "cell_type": "code",
      "metadata": {
        "colab": {
          "base_uri": "https://localhost:8080/",
          "height": 224
        },
        "id": "NetKXtvB77RB",
        "outputId": "11015e03-e8b0-4a2b-ad02-a1dd4f7afb3d"
      },
      "source": [
        "df.head()"
      ],
      "execution_count": null,
      "outputs": [
        {
          "output_type": "execute_result",
          "data": {
            "text/html": [
              "<div>\n",
              "<style scoped>\n",
              "    .dataframe tbody tr th:only-of-type {\n",
              "        vertical-align: middle;\n",
              "    }\n",
              "\n",
              "    .dataframe tbody tr th {\n",
              "        vertical-align: top;\n",
              "    }\n",
              "\n",
              "    .dataframe thead th {\n",
              "        text-align: right;\n",
              "    }\n",
              "</style>\n",
              "<table border=\"1\" class=\"dataframe\">\n",
              "  <thead>\n",
              "    <tr style=\"text-align: right;\">\n",
              "      <th></th>\n",
              "      <th>age</th>\n",
              "      <th>temperature</th>\n",
              "      <th>pulse</th>\n",
              "      <th>diarrhea_0</th>\n",
              "      <th>diarrhea_1</th>\n",
              "      <th>asthma_0</th>\n",
              "      <th>asthma_1</th>\n",
              "      <th>runny_nose_0</th>\n",
              "      <th>runny_nose_1</th>\n",
              "      <th>loss_of_smell_0</th>\n",
              "      <th>loss_of_smell_1</th>\n",
              "      <th>sob_0</th>\n",
              "      <th>sob_1</th>\n",
              "      <th>labored_respiration_0</th>\n",
              "      <th>labored_respiration_1</th>\n",
              "      <th>copd_0</th>\n",
              "      <th>copd_1</th>\n",
              "      <th>muscle_sore_0</th>\n",
              "      <th>muscle_sore_1</th>\n",
              "      <th>sore_throat_0</th>\n",
              "      <th>sore_throat_1</th>\n",
              "      <th>fatigue_0</th>\n",
              "      <th>fatigue_1</th>\n",
              "      <th>high_risk_exposure_occupation_0</th>\n",
              "      <th>high_risk_exposure_occupation_1</th>\n",
              "      <th>headache_0</th>\n",
              "      <th>headache_1</th>\n",
              "      <th>fever_0</th>\n",
              "      <th>fever_1</th>\n",
              "      <th>cancer_0</th>\n",
              "      <th>cancer_1</th>\n",
              "      <th>smoker_0</th>\n",
              "      <th>smoker_1</th>\n",
              "      <th>diabetes_0</th>\n",
              "      <th>diabetes_1</th>\n",
              "      <th>loss_of_taste_0</th>\n",
              "      <th>loss_of_taste_1</th>\n",
              "      <th>chd_0</th>\n",
              "      <th>chd_1</th>\n",
              "      <th>high_risk_interactions_0</th>\n",
              "      <th>high_risk_interactions_1</th>\n",
              "      <th>cough_0</th>\n",
              "      <th>cough_1</th>\n",
              "      <th>autoimmune_dis_0</th>\n",
              "      <th>autoimmune_dis_1</th>\n",
              "      <th>htn_0</th>\n",
              "      <th>htn_1</th>\n",
              "    </tr>\n",
              "  </thead>\n",
              "  <tbody>\n",
              "    <tr>\n",
              "      <th>0</th>\n",
              "      <td>0.31</td>\n",
              "      <td>0.590164</td>\n",
              "      <td>0.224</td>\n",
              "      <td>1</td>\n",
              "      <td>0</td>\n",
              "      <td>1</td>\n",
              "      <td>0</td>\n",
              "      <td>1</td>\n",
              "      <td>0</td>\n",
              "      <td>1</td>\n",
              "      <td>0</td>\n",
              "      <td>1</td>\n",
              "      <td>0</td>\n",
              "      <td>1</td>\n",
              "      <td>0</td>\n",
              "      <td>1</td>\n",
              "      <td>0</td>\n",
              "      <td>1</td>\n",
              "      <td>0</td>\n",
              "      <td>1</td>\n",
              "      <td>0</td>\n",
              "      <td>1</td>\n",
              "      <td>0</td>\n",
              "      <td>1</td>\n",
              "      <td>0</td>\n",
              "      <td>1</td>\n",
              "      <td>0</td>\n",
              "      <td>0</td>\n",
              "      <td>0</td>\n",
              "      <td>1</td>\n",
              "      <td>0</td>\n",
              "      <td>1</td>\n",
              "      <td>0</td>\n",
              "      <td>1</td>\n",
              "      <td>0</td>\n",
              "      <td>1</td>\n",
              "      <td>0</td>\n",
              "      <td>1</td>\n",
              "      <td>0</td>\n",
              "      <td>0</td>\n",
              "      <td>0</td>\n",
              "      <td>1</td>\n",
              "      <td>0</td>\n",
              "      <td>1</td>\n",
              "      <td>0</td>\n",
              "      <td>1</td>\n",
              "      <td>0</td>\n",
              "    </tr>\n",
              "    <tr>\n",
              "      <th>1</th>\n",
              "      <td>0.54</td>\n",
              "      <td>0.532787</td>\n",
              "      <td>0.288</td>\n",
              "      <td>1</td>\n",
              "      <td>0</td>\n",
              "      <td>1</td>\n",
              "      <td>0</td>\n",
              "      <td>1</td>\n",
              "      <td>0</td>\n",
              "      <td>1</td>\n",
              "      <td>0</td>\n",
              "      <td>1</td>\n",
              "      <td>0</td>\n",
              "      <td>1</td>\n",
              "      <td>0</td>\n",
              "      <td>1</td>\n",
              "      <td>0</td>\n",
              "      <td>1</td>\n",
              "      <td>0</td>\n",
              "      <td>1</td>\n",
              "      <td>0</td>\n",
              "      <td>1</td>\n",
              "      <td>0</td>\n",
              "      <td>1</td>\n",
              "      <td>0</td>\n",
              "      <td>1</td>\n",
              "      <td>0</td>\n",
              "      <td>1</td>\n",
              "      <td>0</td>\n",
              "      <td>1</td>\n",
              "      <td>0</td>\n",
              "      <td>1</td>\n",
              "      <td>0</td>\n",
              "      <td>1</td>\n",
              "      <td>0</td>\n",
              "      <td>1</td>\n",
              "      <td>0</td>\n",
              "      <td>1</td>\n",
              "      <td>0</td>\n",
              "      <td>0</td>\n",
              "      <td>1</td>\n",
              "      <td>1</td>\n",
              "      <td>0</td>\n",
              "      <td>1</td>\n",
              "      <td>0</td>\n",
              "      <td>0</td>\n",
              "      <td>1</td>\n",
              "    </tr>\n",
              "    <tr>\n",
              "      <th>2</th>\n",
              "      <td>0.32</td>\n",
              "      <td>0.483607</td>\n",
              "      <td>0.216</td>\n",
              "      <td>1</td>\n",
              "      <td>0</td>\n",
              "      <td>1</td>\n",
              "      <td>0</td>\n",
              "      <td>1</td>\n",
              "      <td>0</td>\n",
              "      <td>1</td>\n",
              "      <td>0</td>\n",
              "      <td>1</td>\n",
              "      <td>0</td>\n",
              "      <td>1</td>\n",
              "      <td>0</td>\n",
              "      <td>1</td>\n",
              "      <td>0</td>\n",
              "      <td>1</td>\n",
              "      <td>0</td>\n",
              "      <td>1</td>\n",
              "      <td>0</td>\n",
              "      <td>1</td>\n",
              "      <td>0</td>\n",
              "      <td>1</td>\n",
              "      <td>0</td>\n",
              "      <td>1</td>\n",
              "      <td>0</td>\n",
              "      <td>1</td>\n",
              "      <td>0</td>\n",
              "      <td>1</td>\n",
              "      <td>0</td>\n",
              "      <td>1</td>\n",
              "      <td>0</td>\n",
              "      <td>1</td>\n",
              "      <td>0</td>\n",
              "      <td>1</td>\n",
              "      <td>0</td>\n",
              "      <td>1</td>\n",
              "      <td>0</td>\n",
              "      <td>1</td>\n",
              "      <td>0</td>\n",
              "      <td>1</td>\n",
              "      <td>0</td>\n",
              "      <td>1</td>\n",
              "      <td>0</td>\n",
              "      <td>1</td>\n",
              "      <td>0</td>\n",
              "    </tr>\n",
              "    <tr>\n",
              "      <th>3</th>\n",
              "      <td>0.25</td>\n",
              "      <td>0.549180</td>\n",
              "      <td>0.480</td>\n",
              "      <td>1</td>\n",
              "      <td>0</td>\n",
              "      <td>1</td>\n",
              "      <td>0</td>\n",
              "      <td>1</td>\n",
              "      <td>0</td>\n",
              "      <td>1</td>\n",
              "      <td>0</td>\n",
              "      <td>0</td>\n",
              "      <td>1</td>\n",
              "      <td>0</td>\n",
              "      <td>0</td>\n",
              "      <td>1</td>\n",
              "      <td>0</td>\n",
              "      <td>1</td>\n",
              "      <td>0</td>\n",
              "      <td>1</td>\n",
              "      <td>0</td>\n",
              "      <td>1</td>\n",
              "      <td>0</td>\n",
              "      <td>1</td>\n",
              "      <td>0</td>\n",
              "      <td>0</td>\n",
              "      <td>1</td>\n",
              "      <td>0</td>\n",
              "      <td>1</td>\n",
              "      <td>1</td>\n",
              "      <td>0</td>\n",
              "      <td>1</td>\n",
              "      <td>0</td>\n",
              "      <td>1</td>\n",
              "      <td>0</td>\n",
              "      <td>1</td>\n",
              "      <td>0</td>\n",
              "      <td>1</td>\n",
              "      <td>0</td>\n",
              "      <td>1</td>\n",
              "      <td>0</td>\n",
              "      <td>0</td>\n",
              "      <td>1</td>\n",
              "      <td>1</td>\n",
              "      <td>0</td>\n",
              "      <td>1</td>\n",
              "      <td>0</td>\n",
              "    </tr>\n",
              "    <tr>\n",
              "      <th>4</th>\n",
              "      <td>0.33</td>\n",
              "      <td>0.532787</td>\n",
              "      <td>0.280</td>\n",
              "      <td>1</td>\n",
              "      <td>0</td>\n",
              "      <td>1</td>\n",
              "      <td>0</td>\n",
              "      <td>1</td>\n",
              "      <td>0</td>\n",
              "      <td>1</td>\n",
              "      <td>0</td>\n",
              "      <td>1</td>\n",
              "      <td>0</td>\n",
              "      <td>1</td>\n",
              "      <td>0</td>\n",
              "      <td>1</td>\n",
              "      <td>0</td>\n",
              "      <td>1</td>\n",
              "      <td>0</td>\n",
              "      <td>1</td>\n",
              "      <td>0</td>\n",
              "      <td>1</td>\n",
              "      <td>0</td>\n",
              "      <td>1</td>\n",
              "      <td>0</td>\n",
              "      <td>1</td>\n",
              "      <td>0</td>\n",
              "      <td>0</td>\n",
              "      <td>0</td>\n",
              "      <td>1</td>\n",
              "      <td>0</td>\n",
              "      <td>1</td>\n",
              "      <td>0</td>\n",
              "      <td>1</td>\n",
              "      <td>0</td>\n",
              "      <td>1</td>\n",
              "      <td>0</td>\n",
              "      <td>1</td>\n",
              "      <td>0</td>\n",
              "      <td>1</td>\n",
              "      <td>0</td>\n",
              "      <td>1</td>\n",
              "      <td>0</td>\n",
              "      <td>1</td>\n",
              "      <td>0</td>\n",
              "      <td>1</td>\n",
              "      <td>0</td>\n",
              "    </tr>\n",
              "  </tbody>\n",
              "</table>\n",
              "</div>"
            ],
            "text/plain": [
              "    age  temperature  pulse  ...  autoimmune_dis_1  htn_0  htn_1\n",
              "0  0.31     0.590164  0.224  ...                 0      1      0\n",
              "1  0.54     0.532787  0.288  ...                 0      0      1\n",
              "2  0.32     0.483607  0.216  ...                 0      1      0\n",
              "3  0.25     0.549180  0.480  ...                 0      1      0\n",
              "4  0.33     0.532787  0.280  ...                 0      1      0\n",
              "\n",
              "[5 rows x 47 columns]"
            ]
          },
          "metadata": {
            "tags": []
          },
          "execution_count": 110
        }
      ]
    },
    {
      "cell_type": "code",
      "metadata": {
        "colab": {
          "base_uri": "https://localhost:8080/"
        },
        "id": "giBUkHaqH-Zx",
        "outputId": "ce71ca8d-38f0-479b-881e-e17593b32956"
      },
      "source": [
        "def load_trained_model(filepath):\n",
        "    new_model = load_model(filepath)\n",
        "    return new_model\n",
        "\n",
        "model = load_trained_model(MODEL_DIRECTORY+MODEL_NAME+\".hdf5\")\n",
        "print(model.summary())"
      ],
      "execution_count": null,
      "outputs": [
        {
          "output_type": "stream",
          "text": [
            "Model: \"sequential_5\"\n",
            "_________________________________________________________________\n",
            "Layer (type)                 Output Shape              Param #   \n",
            "=================================================================\n",
            "dense_20 (Dense)             (None, 47)                2256      \n",
            "_________________________________________________________________\n",
            "dense_21 (Dense)             (None, 25)                1200      \n",
            "_________________________________________________________________\n",
            "dense_22 (Dense)             (None, 25)                650       \n",
            "_________________________________________________________________\n",
            "dense_23 (Dense)             (None, 1)                 26        \n",
            "=================================================================\n",
            "Total params: 4,132\n",
            "Trainable params: 4,132\n",
            "Non-trainable params: 0\n",
            "_________________________________________________________________\n",
            "None\n"
          ],
          "name": "stdout"
        }
      ]
    },
    {
      "cell_type": "code",
      "metadata": {
        "id": "Voo6Q4XaI3Nc"
      },
      "source": [
        "y_pred = model.predict(df)"
      ],
      "execution_count": null,
      "outputs": []
    },
    {
      "cell_type": "code",
      "metadata": {
        "colab": {
          "base_uri": "https://localhost:8080/",
          "height": 204
        },
        "id": "xUH1KmmGJb1t",
        "outputId": "9ba4605c-759e-4170-9ff8-1f426b9f4ec5"
      },
      "source": [
        "y_pred = pd.DataFrame(y_pred)\n",
        "y_pred.head()"
      ],
      "execution_count": null,
      "outputs": [
        {
          "output_type": "execute_result",
          "data": {
            "text/html": [
              "<div>\n",
              "<style scoped>\n",
              "    .dataframe tbody tr th:only-of-type {\n",
              "        vertical-align: middle;\n",
              "    }\n",
              "\n",
              "    .dataframe tbody tr th {\n",
              "        vertical-align: top;\n",
              "    }\n",
              "\n",
              "    .dataframe thead th {\n",
              "        text-align: right;\n",
              "    }\n",
              "</style>\n",
              "<table border=\"1\" class=\"dataframe\">\n",
              "  <thead>\n",
              "    <tr style=\"text-align: right;\">\n",
              "      <th></th>\n",
              "      <th>0</th>\n",
              "    </tr>\n",
              "  </thead>\n",
              "  <tbody>\n",
              "    <tr>\n",
              "      <th>0</th>\n",
              "      <td>1.615692e-01</td>\n",
              "    </tr>\n",
              "    <tr>\n",
              "      <th>1</th>\n",
              "      <td>2.967610e-12</td>\n",
              "    </tr>\n",
              "    <tr>\n",
              "      <th>2</th>\n",
              "      <td>2.706215e-01</td>\n",
              "    </tr>\n",
              "    <tr>\n",
              "      <th>3</th>\n",
              "      <td>3.253529e-24</td>\n",
              "    </tr>\n",
              "    <tr>\n",
              "      <th>4</th>\n",
              "      <td>3.176436e-01</td>\n",
              "    </tr>\n",
              "  </tbody>\n",
              "</table>\n",
              "</div>"
            ],
            "text/plain": [
              "              0\n",
              "0  1.615692e-01\n",
              "1  2.967610e-12\n",
              "2  2.706215e-01\n",
              "3  3.253529e-24\n",
              "4  3.176436e-01"
            ]
          },
          "metadata": {
            "tags": []
          },
          "execution_count": 113
        }
      ]
    },
    {
      "cell_type": "code",
      "metadata": {
        "id": "Zok5vOQ_o6qY"
      },
      "source": [
        "y_pred.to_csv(OUTPUT_DIRECTORY+'predictions.csv', index=False)"
      ],
      "execution_count": null,
      "outputs": []
    },
    {
      "cell_type": "code",
      "metadata": {
        "id": "zPJshvKCIuum"
      },
      "source": [
        ""
      ],
      "execution_count": null,
      "outputs": []
    }
  ]
}